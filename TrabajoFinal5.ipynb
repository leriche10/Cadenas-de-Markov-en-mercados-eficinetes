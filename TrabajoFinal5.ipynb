{
  "nbformat": 4,
  "nbformat_minor": 0,
  "metadata": {
    "colab": {
      "name": "TrabajoFinal2.ipynb",
      "provenance": [],
      "collapsed_sections": []
    },
    "kernelspec": {
      "name": "python3",
      "display_name": "Python 3"
    }
  },
  "cells": [
    {
      "cell_type": "markdown",
      "metadata": {
        "id": "nwCta_awrApi"
      },
      "source": [
        "#Cadenas de Markov en las acciones de Inbursa e indice bursatil IPC\n",
        "\n",
        "## Introduccion\n",
        "\n",
        "Inbursa es el séptimo banco más grande del sistema financiero mexicano y el segundo más grande entre las entidades de propiedad local en activos y préstamos a abril de 2020. El banco tiene una sólida posición en préstamos corporativos y banca transaccional a pesar de la moderada franquicia bancaria. La cartera de préstamos representó el 62,9% delactivo total y la cartera de valores (incluidos los repos) el 20,3% El Grupo financiero Inbursacuenta con una calificación de BBB- de la calificadora Fitch Ratings lo que quiere decir un moderado riesgo de incumplimiento en sus pagos a largo plazo, esto debido a la severacrisis que ocasionó el Covid-19.\n",
        "\n",
        "El SP/BMV IPC (Índice De Precios y Cotizaciones) busca medir el rendimiento de lasacciones de mayor tamaño y liquidez listadas en la Bolsa Mexicana de Valores. Su objetivo es proporcionar un índice amplio ,representativo, pero al mismo tiempo fácil mente replicable, que abarque el mercado bursátil mexicano. Los componentes del índice son ponderados por capitalización de mercado modificada, sujetos a requisitos de diversificación.El indice está compuesto por 35 empresas de las cuales 5 abarcan el 56% del pesototal del indice que son: America Movil, Walmart de México, Fomento Economico Mexicano (FEMSA), Grupo México, Grupo Financiero Banorte.\n",
        "\n",
        "## Objetivo\n",
        "\n",
        "En este trabajo se busca modelar el comportamiento de las acciones del banco INBURSA acotandolas a las variaciones que tienen respecto al día anterior, ya sea positiva, negativa o sin cambio ya que estas variaciones son de importancia para la toma de deciciones al momento de comprar y vender acciones.\n",
        "\n",
        "Se contemplaran las acciones desde el 01 / 01 / 2015 al 24 / 10 / 2020 con la información extraida de la plataforma investing.com, y las acciones del banco lleban la etiqueta GFINBURO, son acciones ordinarias, para la construcción del modelo usaremos varios supuestos que ya iremos describiendo el trabajo.\n",
        "\n",
        "###Objetivos particulares\n",
        "1. Conocer a mayor profundidad las cadenas de markov\n",
        "2. Partir de lo simple a lo complejo, empezando con un modelo sencillo.\n",
        "3. Tratar de graficar el comportamiento\n",
        "\n",
        "### Pregunta objetivo\n",
        "\n",
        "¿Qué variación va a tener el precio de las acciones de Inbursa y el indice IPC tomando en cuenta la hipotesis de mercados eficientes, modelado mediante una cadena de markov, con sus respectivos supuestos?\n",
        "\n",
        "\n",
        "## Descripción del fenómeno\n",
        "\n",
        "### El mercado\n",
        "\n",
        "Para este ejercicio nos basaremos en la hipotesis de los mercados eficientes propuesta por Eugene Fama en 1970, Fama es un economista estadoudisense de la universidad de Chicago, en su tesis de doctorado concluyo que los precios de las acciones son estacasticos siguiendo un random walk.\n",
        "\n",
        "Lo que esta hipotesis plantea es que cualquier noticia o evento futuro que pueda afectar a la cotización de una accion, hará que el precio se ajuste tan rápido, que sea imposible obtener un beneficio económico del mismo por lo tanto no habra ningun activo infravalorado o infrvalorado.\n",
        "\n",
        "Hay 3 factores importantes en la hipotesis que serian el numero de participantes (entre más mejor), información disponible (entre más mejor) y costos de transacción y de información (entre menor mejor).\n",
        "\n",
        "Existen 3 tipos de eficiencia del mercado:\n",
        "\n",
        "1. Eficiencia debil: El precio actual de la acción refleja toda la información historica referente al precio de la acción (no toma en cuenta informacion publica ni privada)\n",
        "2. Eficiencia Semi-fuerte: El precio actual de la acción refleja la información historica y publica disponible (no toma en cuenta informacion privada)\n",
        "3. Eficiencia fuerte: El precio actual de la acción refleja toda la información historica, publica y privada. (Si alguien contara con información privilegiada le seria imposible sacar ventaja por lo rapido que se ajusta el mercado)\n",
        "\n",
        "Al ser una hipotesis es tema de debate donde lo más criticado es la eficiencia fuerte ya que el precio de la información es costosa y no tendria sentido pagarla si el mismo precio ya la contempla sin embargo en ciertos ambientes es probable que se de la eficiencia debil incluso hasta la semifuerte.\n",
        "\n",
        "## Características del modelo\n",
        "\n",
        "A traves de una cadena de Markov vamos a tratar de pronosticar si la acción va a tener una variación positiva, negativa o sin cambio, por lo tanto contamos con 3 estados, generamos una matriz de transición en excel.\n",
        "\n",
        "En excel creamos la matriz de transición con la base de datos proporcionada por investing.com con el mayor número de datos, que en este caso seria desde el 2001.\n",
        "\n",
        "Considremos el tiempo discreto como  $\\{X_n: n \\ge 0  \\}$ = $\\{X_n: n = 0, 1, 2,...  \\}$\n",
        "\n",
        "Texto extraido de un articulo de Goteborgs University Chalmers: \"Markov chains and their respective diagrams can be used to model the probabilities of certain\n",
        "financial market climates and thus predicting the likelihood of future market conditions...In fair markets, it is assumed that the market information\n",
        "is distributed equally among its actors and that prices\n",
        "fluctuate randomly\" (MVE220 Financial Risk: Reading Project, David Schön Myers, Lisa Wallin & Petter Wikström)\n",
        "\n",
        "La distribución de probabilidad del estado del\n",
        "proceso al tiempo futuro $n$ + 1 depende únicamente del estado del proceso al\n",
        "tiempo $n$, y no depende de los estados en los tiempos pasados 0, 1, . . . , $n$ - 1\n",
        "\n",
        "\n",
        "$\\{p(x_{n+1}| x_0,...,x_n = p(x_{n+1}|x_n) \\}$\n",
        "\n",
        "Las probabilidades de transición sean $i$ y $j$ dos estados de una cadena de Markov. A la probabilidad:\n",
        "\n",
        "$\\{P(X_{n+1}=j| X_n=1) \\}$\n",
        "\n",
        "Se le denota por $\\{p_{ij}(n, n + 1)\\}$, y representa la probabilidad de transición del\n",
        "estado $i$ en el tiempo $n$, al estado $j$ en el tiempo $n$ + 1.\n",
        "\n",
        "En general puede considerarse que una cadena de Markov inicia su evolución partiendo de un estado $i$ cualquiera, o mas generalmente considerando una\n",
        "distribuci´on de probabilidad inicial sobre el espacio de estados.\n",
        "\n",
        "Como se comento anteriormente contamos con 2 estados  $n$ dado:\n",
        " 0. Variación positiva (P).\n",
        " 1. Variación negativa (N).\n",
        "\n",
        "\n",
        "La matriz de probabilidades de transición $\\{P-(p_{ij})\\}$ cumple las siguintes propiedades.\n",
        "\n",
        "A) $\\{p_{ij} \\ge 0\\}$\n",
        "\n",
        "B) $\\{\\sum_j p_{ij} = 1\\}$\n",
        "\n",
        "La matriz para 2 estados del IPC está representada de la siguinte forma:\n",
        "\n",
        " \\begin{equation}\n",
        "\\begin{Vmatrix}\n",
        "O & + & -\\\\\n",
        "+ & 0.4683 & 0.5311\\\\\n",
        "- & 0.5247 & 0.4753\\\\\n",
        "\\end{Vmatrix}\n",
        "\\end{equation}\n",
        "\n",
        "La matriz para 2 estados para INBURSA está representada de la siguinte forma:\n",
        "\n",
        " \\begin{equation}\n",
        "\\begin{Vmatrix}\n",
        "O & + & -\\\\\n",
        "+ & 0.4683 & 0.5311\\\\\n",
        "- & 0.5247 & 0.4753\\\\\n",
        "\\end{Vmatrix}\n",
        "\\end{equation}\n",
        "\n",
        "Los tres estados son recurrentes ya que de todos los estados se puede regresar al mismo estado.\n",
        "\n",
        "Bibliografia\n",
        "\n",
        "1. Abellán, J. L. (s.f.). Hipotesis del mercado eficiente. Obtenido de economipedia.com: https://economipedia.com/definiciones/hipotesis-del-mercado-eficiente.html\n",
        "2. David , S. M., Lisa , W., & Petter , W. (s.f.). IntroMarkovChainsApplications. Obtenido de http://www.math.chalmers.se/Stat/Grundutb/CTH/mve220/1617/redingprojects16-17/IntroMarkovChainsandApplications.pdf\n",
        "3. Fitch Ratings. (31 de Julio de 2020). Banco Inbursa, S.A., Institucion de Banca Multiple, Grupo Financiero Inbursa . Obtenido de https://www.fitchratings.com/: https://www.fitchratings.com/research/non-bank-financial-institutions/banco-inbursa-sa-institucion-de-banca-multiple-grupo-financiero-inbursa-31-07-2020\n",
        "4. Interjal Journal of business manageemnt. (Junio de 2009). http://citeseerx.ist.psu.edu/. Obtenido de http://citeseerx.ist.psu.edu/viewdoc/download?doi=10.1.1.654.166&rep=rep1&type=pdf\n",
        "5. Wikipedia. (s.f.). Eugene Fama Wikipedia La enciclopedia libre. Obtenido de https://es.wikipedia.org/wiki/Eugene_Fama"
      ]
    },
    {
      "cell_type": "code",
      "metadata": {
        "colab": {
          "base_uri": "https://localhost:8080/",
          "height": 269
        },
        "id": "xtkSxBNvgEjb",
        "outputId": "5cd256bb-436e-4bb1-fafc-d8111ce45b58"
      },
      "source": [
        "#Grafica del comportomaiento de la acción a partir del 2015\n",
        "\n",
        "\n",
        "import pandas_datareader as pdr\n",
        "import matplotlib.pyplot as plt\n",
        "import datetime\n",
        "\n",
        "inbursa =pdr.get_data_yahoo('GFINBURO.MX', start=datetime.datetime(2015,1,1), end=datetime.datetime(2020,1,1))\n",
        "column = inbursa['Adj Close']\n",
        "\n",
        "column.plot(grid=True)\n",
        "plt.show()"
      ],
      "execution_count": 5,
      "outputs": [
        {
          "output_type": "display_data",
          "data": {
            "image/png": "[encoded data removed]",
            "text/plain": [
              "<Figure size 432x288 with 1 Axes>"
            ]
          },
          "metadata": {
            "tags": [],
            "needs_background": "light"
          }
        }
      ]
    },
    {
      "cell_type": "code",
      "metadata": {
        "colab": {
          "base_uri": "https://localhost:8080/"
        },
        "id": "U0X8qyvNhl-l",
        "outputId": "8681a54a-9ed5-4421-d7ba-2e341573fa69"
      },
      "source": [
        "!pip install QuantEcon"
      ],
      "execution_count": 3,
      "outputs": [
        {
          "output_type": "stream",
          "text": [
            "Collecting QuantEcon\n",
            "\u001b[?25l  Downloading https://files.pythonhosted.org/packages/5d/e3/4fd5f948de917036b5696347b28fa25da7bd7df995e4f9f42db1c3070eb8/quantecon-0.4.8-py3-none-any.whl (230kB)\n",
            "\u001b[K     |████████████████████████████████| 235kB 4.1MB/s \n",
            "\u001b[?25hRequirement already satisfied: sympy in /usr/local/lib/python3.6/dist-packages (from QuantEcon) (1.1.1)\n",
            "Requirement already satisfied: requests in /usr/local/lib/python3.6/dist-packages (from QuantEcon) (2.23.0)\n",
            "Requirement already satisfied: numpy in /usr/local/lib/python3.6/dist-packages (from QuantEcon) (1.18.5)\n",
            "Requirement already satisfied: numba>=0.38 in /usr/local/lib/python3.6/dist-packages (from QuantEcon) (0.48.0)\n",
            "Requirement already satisfied: scipy>=1.0.0 in /usr/local/lib/python3.6/dist-packages (from QuantEcon) (1.4.1)\n",
            "Requirement already satisfied: mpmath>=0.19 in /usr/local/lib/python3.6/dist-packages (from sympy->QuantEcon) (1.1.0)\n",
            "Requirement already satisfied: certifi>=2017.4.17 in /usr/local/lib/python3.6/dist-packages (from requests->QuantEcon) (2020.11.8)\n",
            "Requirement already satisfied: chardet<4,>=3.0.2 in /usr/local/lib/python3.6/dist-packages (from requests->QuantEcon) (3.0.4)\n",
            "Requirement already satisfied: idna<3,>=2.5 in /usr/local/lib/python3.6/dist-packages (from requests->QuantEcon) (2.10)\n",
            "Requirement already satisfied: urllib3!=1.25.0,!=1.25.1,<1.26,>=1.21.1 in /usr/local/lib/python3.6/dist-packages (from requests->QuantEcon) (1.24.3)\n",
            "Requirement already satisfied: llvmlite<0.32.0,>=0.31.0dev0 in /usr/local/lib/python3.6/dist-packages (from numba>=0.38->QuantEcon) (0.31.0)\n",
            "Requirement already satisfied: setuptools in /usr/local/lib/python3.6/dist-packages (from numba>=0.38->QuantEcon) (50.3.2)\n",
            "Installing collected packages: QuantEcon\n",
            "Successfully installed QuantEcon-0.4.8\n"
          ],
          "name": "stdout"
        }
      ]
    },
    {
      "cell_type": "code",
      "metadata": {
        "id": "_v_s3704heeH"
      },
      "source": [
        "import quantecon as qe\n",
        "from quantecon import MarkovChain \n",
        "import numpy as np"
      ],
      "execution_count": 4,
      "outputs": []
    },
    {
      "cell_type": "code",
      "metadata": {
        "colab": {
          "base_uri": "https://localhost:8080/"
        },
        "id": "AihvMQCkiBJN",
        "outputId": "2f7085f3-b4d5-4bcd-9dfa-36111a82238a"
      },
      "source": [
        "#INBURSA\n",
        "Pi = [[0.4689, 0.5311],\n",
        "     [0.5247, 0.4753]]\n",
        "#Una matriz es irreducible si todos sus estados se comunican entre si\n",
        "mcINBURSA = qe.MarkovChain(Pi, ('positivo', 'negativo'))\n",
        "mcINBURSA.is_irreducible"
      ],
      "execution_count": null,
      "outputs": [
        {
          "output_type": "execute_result",
          "data": {
            "text/plain": [
              "True"
            ]
          },
          "metadata": {
            "tags": []
          },
          "execution_count": 5
        }
      ]
    },
    {
      "cell_type": "code",
      "metadata": {
        "colab": {
          "base_uri": "https://localhost:8080/"
        },
        "id": "WgbsmA1Ci-yr",
        "outputId": "c9f289fb-a839-458c-8027-65fe2ca14c33"
      },
      "source": [
        "mcINBURSA.period"
      ],
      "execution_count": null,
      "outputs": [
        {
          "output_type": "execute_result",
          "data": {
            "text/plain": [
              "1"
            ]
          },
          "metadata": {
            "tags": []
          },
          "execution_count": 6
        }
      ]
    },
    {
      "cell_type": "code",
      "metadata": {
        "colab": {
          "base_uri": "https://localhost:8080/"
        },
        "id": "PiFlFDDFjFnI",
        "outputId": "4476ba85-c987-4f43-c69f-9438f0e3ce57"
      },
      "source": [
        "#Demostraremos esta funcion con una identidad a consecuencia de  Chapman-Kolmogorov aplicada n-1 veces\n",
        "mcINBURSA.stationary_distributions"
      ],
      "execution_count": null,
      "outputs": [
        {
          "output_type": "execute_result",
          "data": {
            "text/plain": [
              "array([[0.49696912, 0.50303088]])"
            ]
          },
          "metadata": {
            "tags": []
          },
          "execution_count": 7
        }
      ]
    },
    {
      "cell_type": "code",
      "metadata": {
        "colab": {
          "base_uri": "https://localhost:8080/"
        },
        "id": "sHvDUq48j3ZW",
        "outputId": "eb6284a0-0201-40e6-b6b9-d2fe7e207dbd"
      },
      "source": [
        "#IPC\n",
        "Pip = [[0.5751, 0.4249],\n",
        "     [0.483, 0.5170]]\n",
        "\n",
        "mcIPC = qe.MarkovChain(Pip, ('positivo', 'negativo'))\n",
        "mcIPC.is_irreducible"
      ],
      "execution_count": null,
      "outputs": [
        {
          "output_type": "execute_result",
          "data": {
            "text/plain": [
              "True"
            ]
          },
          "metadata": {
            "tags": []
          },
          "execution_count": 8
        }
      ]
    },
    {
      "cell_type": "code",
      "metadata": {
        "colab": {
          "base_uri": "https://localhost:8080/"
        },
        "id": "0WGHulkDkDLW",
        "outputId": "0b2fac41-e098-43c8-91da-18fe77155ce6"
      },
      "source": [
        "mcIPC.period"
      ],
      "execution_count": null,
      "outputs": [
        {
          "output_type": "execute_result",
          "data": {
            "text/plain": [
              "1"
            ]
          },
          "metadata": {
            "tags": []
          },
          "execution_count": 9
        }
      ]
    },
    {
      "cell_type": "code",
      "metadata": {
        "colab": {
          "base_uri": "https://localhost:8080/"
        },
        "id": "6hgYsD07kL0W",
        "outputId": "5018260a-9e80-49e4-fc75-25ecb4cba85c"
      },
      "source": [
        "mcIPC.stationary_distributions"
      ],
      "execution_count": null,
      "outputs": [
        {
          "output_type": "execute_result",
          "data": {
            "text/plain": [
              "array([[0.53199692, 0.46800308]])"
            ]
          },
          "metadata": {
            "tags": []
          },
          "execution_count": 10
        }
      ]
    },
    {
      "cell_type": "code",
      "metadata": {
        "colab": {
          "base_uri": "https://localhost:8080/"
        },
        "id": "kinQJBIpkx8z",
        "outputId": "b1bcc2e5-f2d6-4861-ee9c-a35523b28600"
      },
      "source": [
        "#Identidad a consecuencia de la ecuación de Chapman-Kolmogorov aplicada n-1 veces\n",
        "#INBURSA\n",
        "a = 0.4689\n",
        "b = 0.4753\n",
        "n = 10\n",
        "\n",
        "P = np.matrix([[1-a, a], [b, 1-b]])\n",
        "Pn = P\n",
        "p00 = [Pn[0,0]]\n",
        "p01 = [Pn[0,1]]\n",
        "\n",
        "for i in range(n):\n",
        "    Pn = Pn*P   #P^n\n",
        "    p00.append(Pn[0,0])\n",
        "    p01.append(Pn[0,1])\n",
        "\n",
        "print(p01)\n",
        "print(p00)\n",
        "#Esto quiere decir que nos encontraremos más veces en el estado negativo por una minima diferencia"
      ],
      "execution_count": null,
      "outputs": [
        {
          "output_type": "stream",
          "text": [
            "[0.4689, 0.49506461999999996, 0.496524605796, 0.4966060730034168, 0.4966106188735906, 0.4966108725331463, 0.4966108866873495, 0.496610887477154, 0.49661088752122506, 0.4966108875236842, 0.49661088752382143]\n",
            "[0.5311, 0.50493538, 0.503475394204, 0.5033939269965831, 0.5033893811264093, 0.5033891274668536, 0.5033891133126503, 0.5033891125228458, 0.5033891124787747, 0.5033891124763156, 0.5033891124761783]\n"
          ],
          "name": "stdout"
        }
      ]
    },
    {
      "cell_type": "code",
      "metadata": {
        "colab": {
          "base_uri": "https://localhost:8080/"
        },
        "id": "-HPeMR34pmD2",
        "outputId": "ee4a282c-ca9a-4ae2-814b-ac6d8d29d2b4"
      },
      "source": [
        "#Ergodicidad\n",
        "a/(b+a)\n",
        "#Para el estado positivo obtenemos el mismo valor"
      ],
      "execution_count": null,
      "outputs": [
        {
          "output_type": "execute_result",
          "data": {
            "text/plain": [
              "0.5033891124761704"
            ]
          },
          "metadata": {
            "tags": []
          },
          "execution_count": 31
        }
      ]
    },
    {
      "cell_type": "code",
      "metadata": {
        "colab": {
          "base_uri": "https://localhost:8080/",
          "height": 514
        },
        "id": "x3tqVR5PnHtd",
        "outputId": "f56eac33-6d52-4495-b759-5f62878a0123"
      },
      "source": [
        "#INBURSA\n",
        "a_val,b_val = [],[]\n",
        "# initial state\n",
        "init_state = np.array([1, 0])\n",
        "# transition matrix\n",
        "a = np.array([[ 0.4689, 0.5311], [ 0.5247, 0.4753]])\n",
        "for x in range(10):\n",
        "    a_val.append(init_state[0])\n",
        "    b_val.append(init_state[1])\n",
        "    b = init_state\n",
        "    init_state = a.dot(b)\n",
        "# plotting\n",
        "plt.figure(figsize=(11,8))\n",
        "plt.plot( [x for x in range(10)], a_val, marker='o', markerfacecolor='blue', markersize=12, color='skyblue', linewidth=4,label='POSITIVO')\n",
        "plt.plot( [x for x in range(10)], b_val, marker='o', markerfacecolor='red', markersize=12, color='pink', linewidth=4,label='NEGATIVO')\n",
        "plt.legend(loc='best')\n",
        "plt.xlabel('Dias')\n",
        "plt.ylabel('Probabilidad')"
      ],
      "execution_count": null,
      "outputs": [
        {
          "output_type": "execute_result",
          "data": {
            "text/plain": [
              "Text(0, 0.5, 'Probabilidad')"
            ]
          },
          "metadata": {
            "tags": []
          },
          "execution_count": 24
        },
        {
          "output_type": "display_data",
          "data": {
            "image/png": "[encoded data removed]",
            "text/plain": [
              "<Figure size 792x576 with 1 Axes>"
            ]
          },
          "metadata": {
            "tags": [],
            "needs_background": "light"
          }
        }
      ]
    },
    {
      "cell_type": "code",
      "metadata": {
        "colab": {
          "base_uri": "https://localhost:8080/"
        },
        "id": "wkCQdphEllod",
        "outputId": "821f8f0b-77eb-411b-d2ac-70aa8ad81e66"
      },
      "source": [
        "#indice IPC\n",
        "a = 0.5751\n",
        "b = 0.5170\n",
        "n = 10\n",
        "\n",
        "P = np.matrix([[1-a, a], [b, 1-b]])\n",
        "Pn = P\n",
        "p00 = [Pn[0,0]]\n",
        "p01 = [Pn[0,1]]\n",
        "\n",
        "for i in range(n):\n",
        "    Pn = Pn*P   #P^n\n",
        "    p00.append(Pn[0,0])\n",
        "    p01.append(Pn[0,1])\n",
        "\n",
        "print(p01)\n",
        "print(p00)\n",
        "#Esto quiere decir que nos encontraremos más veces en el estado positivo"
      ],
      "execution_count": null,
      "outputs": [
        {
          "output_type": "stream",
          "text": [
            "[0.5751, 0.52213329, 0.527011523991, 0.5265622386404288, 0.5266036178212165, 0.5265998067986659, 0.5266001577938428, 0.526600125467187, 0.526600128444472, 0.526600128170264, 0.5266001281955186]\n",
            "[0.42490000000000006, 0.47786671000000003, 0.472988476009, 0.47343776135957116, 0.4733963821787835, 0.47340019320133403, 0.47339984220615716, 0.47339987453281296, 0.473399871555528, 0.4733998718297359, 0.47339987180448134]\n"
          ],
          "name": "stdout"
        }
      ]
    },
    {
      "cell_type": "code",
      "metadata": {
        "colab": {
          "base_uri": "https://localhost:8080/"
        },
        "id": "jZG-NEOzqtQy",
        "outputId": "bc39c890-fffe-4851-ca2f-b5af2fd09d95"
      },
      "source": [
        "#Ergodicidad\n",
        "a/(b+a)\n",
        "#Para el estado positivo obtenemos el mismo valor"
      ],
      "execution_count": null,
      "outputs": [
        {
          "output_type": "execute_result",
          "data": {
            "text/plain": [
              "0.5266001281933889"
            ]
          },
          "metadata": {
            "tags": []
          },
          "execution_count": 33
        }
      ]
    },
    {
      "cell_type": "code",
      "metadata": {
        "colab": {
          "base_uri": "https://localhost:8080/",
          "height": 514
        },
        "id": "NXun01u9oTUR",
        "outputId": "bc15a585-cf6b-4812-a178-911f713cfc4d"
      },
      "source": [
        "#IPC\n",
        "a_val,b_val = [],[]\n",
        "# initial state\n",
        "init_state = np.array([1, 0])\n",
        "# transition matrix\n",
        "a = np.array([[ 0.5751, 0.4249], [0.483, 0.5170 ]])\n",
        "for x in range(10):\n",
        "    a_val.append(init_state[0])\n",
        "    b_val.append(init_state[1])\n",
        "    b = init_state\n",
        "    init_state = a.dot(b)\n",
        "# plotting\n",
        "plt.figure(figsize=(11,8))\n",
        "plt.plot( [x for x in range(10)], a_val, marker='o', markerfacecolor='blue', markersize=12, color='skyblue', linewidth=4,label='POSITIVO')\n",
        "plt.plot( [x for x in range(10)], b_val, marker='o', markerfacecolor='red', markersize=12, color='pink', linewidth=4,label='NEGATIVO')\n",
        "plt.legend(loc='best')\n",
        "plt.xlabel('Dias')\n",
        "plt.ylabel('Probabilidad')"
      ],
      "execution_count": null,
      "outputs": [
        {
          "output_type": "execute_result",
          "data": {
            "text/plain": [
              "Text(0, 0.5, 'Probabilidad')"
            ]
          },
          "metadata": {
            "tags": []
          },
          "execution_count": 25
        },
        {
          "output_type": "display_data",
          "data": {
            "image/png": "[encoded data removed]",
            "text/plain": [
              "<Figure size 792x576 with 1 Axes>"
            ]
          },
          "metadata": {
            "tags": [],
            "needs_background": "light"
          }
        }
      ]
    },
    {
      "cell_type": "code",
      "metadata": {
        "id": "V6pt3NXQmNMx"
      },
      "source": [
        "#Predicción sobre los proximos 10 días respecto a la acción de INBURSA\n",
        "state_dict = {'P': np.array([['P', 'N'],\n",
        "                             [.4689, .5311]]),\n",
        "              'N': np.array([['P', 'N'],\n",
        "                             [.5247, .4753]])}\n",
        "\n",
        "class Markov(object):\n",
        "\n",
        "    def __init__(accion, state_dict):\n",
        "        accion.state_dict = state_dict\n",
        "        accion.state = list(accion.state_dict.keys())[0]\n",
        "\n",
        "    def check_state(accion):\n",
        "        print('Current State: %s' % (accion.state))\n",
        "\n",
        "    def set_state(accion, state):\n",
        "        accion.state = state\n",
        "        print('State is now: %s' % (accion.state))\n",
        "\n",
        "    def next_state(accion):\n",
        "        A = accion.state_dict[accion.state]\n",
        "        accion.state = np.random.choice(a=list(A[0]), p=list(A[1]))\n",
        "        print('New State: %s' % (accion.state))                 "
      ],
      "execution_count": null,
      "outputs": []
    },
    {
      "cell_type": "code",
      "metadata": {
        "colab": {
          "base_uri": "https://localhost:8080/"
        },
        "id": "qQ3LpKjsmaMv",
        "outputId": "46d65b7d-375f-4779-a721-3959de7723f0"
      },
      "source": [
        "diagram_a = Markov(state_dict)\n",
        "diagram_a.check_state()"
      ],
      "execution_count": null,
      "outputs": [
        {
          "output_type": "stream",
          "text": [
            "Current State: P\n"
          ],
          "name": "stdout"
        }
      ]
    },
    {
      "cell_type": "code",
      "metadata": {
        "colab": {
          "base_uri": "https://localhost:8080/"
        },
        "id": "qkOsBoyImeje",
        "outputId": "b100de08-0475-4127-c69b-6e754c7aef2d"
      },
      "source": [
        "for x in range(10):\n",
        "    diagram_a.next_state()"
      ],
      "execution_count": null,
      "outputs": [
        {
          "output_type": "stream",
          "text": [
            "New State: P\n",
            "New State: P\n",
            "New State: N\n",
            "New State: P\n",
            "New State: N\n",
            "New State: N\n",
            "New State: N\n",
            "New State: N\n",
            "New State: P\n",
            "New State: N\n"
          ],
          "name": "stdout"
        }
      ]
    },
    {
      "cell_type": "code",
      "metadata": {
        "id": "Dlx-3hWn5kRx"
      },
      "source": [
        "#Predicción sobre los proximos 10 días respecto al IPC\n",
        "state_dict = {'P': np.array([['P', 'N'],\n",
        "                             [0.5751, 0.4249]]),\n",
        "              'N': np.array([['P', 'N'],\n",
        "                             [0.483, 0.5170]])}\n",
        "\n",
        "class Markov(object):\n",
        "\n",
        "    def __init__(accion, state_dict):\n",
        "        accion.state_dict = state_dict\n",
        "        accion.state = list(accion.state_dict.keys())[0]\n",
        "\n",
        "    def check_state(accion):\n",
        "        print('Current State: %s' % (accion.state))\n",
        "\n",
        "    def set_state(accion, state):\n",
        "        accion.state = state\n",
        "        print('State is now: %s' % (accion.state))\n",
        "\n",
        "    def next_state(accion):\n",
        "        A = accion.state_dict[accion.state]\n",
        "        accion.state = np.random.choice(a=list(A[0]), p=list(A[1]))\n",
        "        print('New State: %s' % (accion.state))  "
      ],
      "execution_count": 8,
      "outputs": []
    },
    {
      "cell_type": "code",
      "metadata": {
        "colab": {
          "base_uri": "https://localhost:8080/"
        },
        "id": "8rnwt29h6RY3",
        "outputId": "38140b17-8ea8-4144-a8e6-f999d4814b9b"
      },
      "source": [
        "diagram_a = Markov(state_dict)\n",
        "diagram_a.check_state()"
      ],
      "execution_count": 9,
      "outputs": [
        {
          "output_type": "stream",
          "text": [
            "Current State: P\n"
          ],
          "name": "stdout"
        }
      ]
    },
    {
      "cell_type": "code",
      "metadata": {
        "colab": {
          "base_uri": "https://localhost:8080/"
        },
        "id": "htdPqIQX6Ui2",
        "outputId": "fd43e456-2fef-4912-c03a-45d91bc4673f"
      },
      "source": [
        "for x in range(10):\n",
        "    diagram_a.next_state()"
      ],
      "execution_count": 15,
      "outputs": [
        {
          "output_type": "stream",
          "text": [
            "New State: P\n",
            "New State: P\n",
            "New State: P\n",
            "New State: P\n",
            "New State: P\n",
            "New State: N\n",
            "New State: P\n",
            "New State: P\n",
            "New State: P\n",
            "New State: P\n"
          ],
          "name": "stdout"
        }
      ]
    }
  ]
}